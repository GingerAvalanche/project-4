{
  "cells": [
    {
      "cell_type": "code",
      "execution_count": 1,
      "metadata": {
        "colab": {
          "base_uri": "https://localhost:8080/"
        },
        "id": "t51hQOgh-i7e",
        "outputId": "a01a401c-e4b8-4c43-b4f5-226144c78fd1"
      },
      "outputs": [
        {
          "output_type": "stream",
          "name": "stdout",
          "text": [
            "\r0% [Working]\r            \rGet:1 https://cloud.r-project.org/bin/linux/ubuntu jammy-cran40/ InRelease [3,626 B]\n",
            "\r0% [Connecting to archive.ubuntu.com (185.125.190.39)] [Connecting to security.ubuntu.com (185.125.1\r0% [Connecting to archive.ubuntu.com (185.125.190.39)] [Connecting to security.ubuntu.com (185.125.1\r                                                                                                    \rGet:2 https://developer.download.nvidia.com/compute/cuda/repos/ubuntu2204/x86_64  InRelease [1,581 B]\n",
            "\r0% [Waiting for headers] [Waiting for headers] [Connecting to ppa.launchpadcontent.net (185.125.190.\r0% [Waiting for headers] [Waiting for headers] [Connecting to ppa.launchpadcontent.net (185.125.190.\r                                                                                                    \rGet:3 http://security.ubuntu.com/ubuntu jammy-security InRelease [110 kB]\n",
            "\r0% [Waiting for headers] [3 InRelease 4,096 B/110 kB 4%] [Connecting to ppa.launchpadcontent.net (18\r                                                                                                    \rHit:4 http://archive.ubuntu.com/ubuntu jammy InRelease\n",
            "Get:5 http://archive.ubuntu.com/ubuntu jammy-updates InRelease [119 kB]\n",
            "Hit:6 https://ppa.launchpadcontent.net/c2d4u.team/c2d4u4.0+/ubuntu jammy InRelease\n",
            "Get:7 https://developer.download.nvidia.com/compute/cuda/repos/ubuntu2204/x86_64  Packages [589 kB]\n",
            "Get:8 http://archive.ubuntu.com/ubuntu jammy-backports InRelease [109 kB]\n",
            "Hit:9 https://ppa.launchpadcontent.net/deadsnakes/ppa/ubuntu jammy InRelease\n",
            "Hit:10 https://ppa.launchpadcontent.net/graphics-drivers/ppa/ubuntu jammy InRelease\n",
            "Get:11 http://security.ubuntu.com/ubuntu jammy-security/main amd64 Packages [1,185 kB]\n",
            "Hit:12 https://ppa.launchpadcontent.net/ubuntugis/ppa/ubuntu jammy InRelease\n",
            "Get:13 http://security.ubuntu.com/ubuntu jammy-security/universe amd64 Packages [1,012 kB]\n",
            "Get:14 http://security.ubuntu.com/ubuntu jammy-security/restricted amd64 Packages [1,389 kB]\n",
            "Get:15 http://archive.ubuntu.com/ubuntu jammy-updates/main amd64 Packages [1,455 kB]\n",
            "Get:16 http://archive.ubuntu.com/ubuntu jammy-updates/restricted amd64 Packages [1,415 kB]\n",
            "Get:17 http://archive.ubuntu.com/ubuntu jammy-updates/universe amd64 Packages [1,278 kB]\n",
            "Get:18 http://archive.ubuntu.com/ubuntu jammy-backports/universe amd64 Packages [32.6 kB]\n",
            "Fetched 8,699 kB in 3s (2,714 kB/s)\n",
            "Reading package lists... Done\n"
          ]
        }
      ],
      "source": [
        "import os\n",
        "# Find the latest version of spark 3.x  from http://www.apache.org/dist/spark/ and enter as the spark version\n",
        "# For example:\n",
        "# spark_version = 'spark-3.5.0'\n",
        "spark_version = 'spark-3.5.0'\n",
        "os.environ['SPARK_VERSION']=spark_version\n",
        "\n",
        "# Install Spark and Java\n",
        "!apt-get update\n",
        "!apt-get install openjdk-11-jdk-headless -qq > /dev/null\n",
        "!wget -q http://www.apache.org/dist/spark/$SPARK_VERSION/$SPARK_VERSION-bin-hadoop3.tgz\n",
        "!tar xf $SPARK_VERSION-bin-hadoop3.tgz\n",
        "!pip install -q findspark\n",
        "\n",
        "# Set Environment Variables\n",
        "os.environ[\"JAVA_HOME\"] = \"/usr/lib/jvm/java-11-openjdk-amd64\"\n",
        "os.environ[\"SPARK_HOME\"] = f\"/content/{spark_version}-bin-hadoop3\"\n",
        "\n",
        "# Start a SparkSession\n",
        "import findspark\n",
        "findspark.init()"
      ]
    },
    {
      "cell_type": "code",
      "execution_count": 2,
      "metadata": {
        "id": "oaLTbsyu-neS"
      },
      "outputs": [],
      "source": [
        "# Import packages\n",
        "from pyspark.sql import SparkSession\n",
        "import time\n",
        "\n",
        "# Create a SparkSession\n",
        "spark = SparkSession.builder.appName(\"SparkSQL\").getOrCreate()"
      ]
    },
    {
      "cell_type": "code",
      "execution_count": 3,
      "metadata": {
        "colab": {
          "base_uri": "https://localhost:8080/"
        },
        "id": "HHCc0XJT-p-I",
        "outputId": "c9d7d3dd-fb42-40e3-cad0-af817661fde3"
      },
      "outputs": [
        {
          "output_type": "stream",
          "name": "stdout",
          "text": [
            "+---+---+---------------+------------+-----------+-------------------+-----------+--------------+---------------+-------+--------+------+\n",
            "|age|sex|chest_pain_type|resting_bp_s|cholesterol|fasting_blood_sugar|resting_ecg|max_heart_rate|exercise_angina|oldpeak|ST_slope|target|\n",
            "+---+---+---------------+------------+-----------+-------------------+-----------+--------------+---------------+-------+--------+------+\n",
            "| 40|  1|              2|         140|        289|                  0|          0|           172|              0|    0.0|       1|     0|\n",
            "| 49|  0|              3|         160|        180|                  0|          0|           156|              0|    1.0|       2|     1|\n",
            "| 37|  1|              2|         130|        283|                  0|          1|            98|              0|    0.0|       1|     0|\n",
            "| 48|  0|              4|         138|        214|                  0|          0|           108|              1|    1.5|       2|     1|\n",
            "| 54|  1|              3|         150|        195|                  0|          0|           122|              0|    0.0|       1|     0|\n",
            "| 39|  1|              3|         120|        339|                  0|          0|           170|              0|    0.0|       1|     0|\n",
            "| 45|  0|              2|         130|        237|                  0|          0|           170|              0|    0.0|       1|     0|\n",
            "| 54|  1|              2|         110|        208|                  0|          0|           142|              0|    0.0|       1|     0|\n",
            "| 37|  1|              4|         140|        207|                  0|          0|           130|              1|    1.5|       2|     1|\n",
            "| 48|  0|              2|         120|        284|                  0|          0|           120|              0|    0.0|       1|     0|\n",
            "| 37|  0|              3|         130|        211|                  0|          0|           142|              0|    0.0|       1|     0|\n",
            "| 58|  1|              2|         136|        164|                  0|          1|            99|              1|    2.0|       2|     1|\n",
            "| 39|  1|              2|         120|        204|                  0|          0|           145|              0|    0.0|       1|     0|\n",
            "| 49|  1|              4|         140|        234|                  0|          0|           140|              1|    1.0|       2|     1|\n",
            "| 42|  0|              3|         115|        211|                  0|          1|           137|              0|    0.0|       1|     0|\n",
            "| 54|  0|              2|         120|        273|                  0|          0|           150|              0|    1.5|       2|     0|\n",
            "| 38|  1|              4|         110|        196|                  0|          0|           166|              0|    0.0|       2|     1|\n",
            "| 43|  0|              2|         120|        201|                  0|          0|           165|              0|    0.0|       1|     0|\n",
            "| 60|  1|              4|         100|        248|                  0|          0|           125|              0|    1.0|       2|     1|\n",
            "| 36|  1|              2|         120|        267|                  0|          0|           160|              0|    3.0|       2|     1|\n",
            "+---+---+---------------+------------+-----------+-------------------+-----------+--------------+---------------+-------+--------+------+\n",
            "only showing top 20 rows\n",
            "\n"
          ]
        }
      ],
      "source": [
        "from pyspark import SparkFiles\n",
        "url = \"https://ale-work-123.s3.us-west-1.amazonaws.com/heart_statlog_cleveland_hungary_final_clean.csv\"\n",
        "spark.sparkContext.addFile(url)\n",
        "df = spark.read.csv(SparkFiles.get(\"heart_statlog_cleveland_hungary_final_clean.csv\"), sep=\",\", header=True)\n",
        "\n",
        "df.show()"
      ]
    },
    {
      "cell_type": "code",
      "execution_count": 4,
      "metadata": {
        "id": "BmEXYkN4-qBH"
      },
      "outputs": [],
      "source": [
        "df.createOrReplaceTempView('heart_disease')"
      ]
    },
    {
      "cell_type": "code",
      "execution_count": 5,
      "metadata": {
        "id": "6FXV50BJ_7lF"
      },
      "outputs": [],
      "source": [
        "def run_sql_query(query):\n",
        "    spark.sql(query).show()"
      ]
    },
    {
      "cell_type": "code",
      "execution_count": 6,
      "metadata": {
        "colab": {
          "base_uri": "https://localhost:8080/"
        },
        "id": "4RPoe8O1-qDf",
        "outputId": "3c4d2590-141d-4bcb-c324-63a50c17b062"
      },
      "outputs": [
        {
          "output_type": "stream",
          "name": "stdout",
          "text": [
            "+---------------+-----------+-------------+\n",
            "|chest_pain_type|cholesterol|heart_disease|\n",
            "+---------------+-----------+-------------+\n",
            "|              1|        291|            1|\n",
            "|              1|        273|            1|\n",
            "|              1|        160|            0|\n",
            "|              1|        270|            1|\n",
            "|              1|        252|            0|\n",
            "|              1|        223|            0|\n",
            "|              1|        258|            1|\n",
            "|              1|        272|            1|\n",
            "|              1|        200|            1|\n",
            "|              1|        308|            0|\n",
            "|              1|        181|            0|\n",
            "|              1|        237|            0|\n",
            "|              1|        216|            1|\n",
            "|              1|        171|            0|\n",
            "|              1|        139|            0|\n",
            "|              1|        156|            1|\n",
            "|              1|        234|            1|\n",
            "|              1|        249|            0|\n",
            "|              1|        211|            0|\n",
            "|              1|        199|            0|\n",
            "+---------------+-----------+-------------+\n",
            "only showing top 20 rows\n",
            "\n"
          ]
        }
      ],
      "source": [
        "## Type of chest pain compared to their cholesterol levels and if they have heart disease or not\n",
        "run_sql_query(\"\"\"\n",
        "    select chest_pain_type as chest_pain_type, cholesterol as cholesterol, target as heart_disease\n",
        "    from heart_disease\n",
        "    where cholesterol != 0\n",
        "    order by chest_pain_type\n",
        "\"\"\")"
      ]
    },
    {
      "cell_type": "code",
      "execution_count": 7,
      "metadata": {
        "colab": {
          "base_uri": "https://localhost:8080/"
        },
        "id": "kMbJL2WH0yfB",
        "outputId": "342d922f-727e-4423-8112-b1e94f3d2b7b"
      },
      "outputs": [
        {
          "output_type": "stream",
          "name": "stdout",
          "text": [
            "+---------------+-----------+-------------+\n",
            "|chest_pain_type|resting_ecg|heart_disease|\n",
            "+---------------+-----------+-------------+\n",
            "|              2|          0|            0|\n",
            "|              3|          0|            0|\n",
            "|              2|          0|            0|\n",
            "|              4|          1|            0|\n",
            "|              2|          0|            0|\n",
            "|              3|          0|            0|\n",
            "|              2|          0|            0|\n",
            "|              2|          0|            0|\n",
            "|              2|          0|            0|\n",
            "|              2|          0|            0|\n",
            "|              3|          0|            0|\n",
            "|              2|          0|            0|\n",
            "|              2|          0|            0|\n",
            "|              2|          0|            0|\n",
            "|              2|          0|            0|\n",
            "|              1|          0|            0|\n",
            "|              2|          1|            0|\n",
            "|              2|          1|            0|\n",
            "|              2|          1|            0|\n",
            "|              3|          0|            0|\n",
            "+---------------+-----------+-------------+\n",
            "only showing top 20 rows\n",
            "\n"
          ]
        }
      ],
      "source": [
        "## Individuals with their resting ecg and chest pain types and whether they have heart disease or not\n",
        "run_sql_query(\"\"\"\n",
        "    select chest_pain_type, resting_ecg, target as heart_disease\n",
        "    from heart_disease\n",
        "    order by heart_disease\n",
        "\"\"\")"
      ]
    },
    {
      "cell_type": "code",
      "execution_count": 25,
      "metadata": {
        "colab": {
          "base_uri": "https://localhost:8080/"
        },
        "id": "1uycctrb9Qqu",
        "outputId": "c7161025-aafa-44bc-895c-bc8b0a7de8a1"
      },
      "outputs": [
        {
          "output_type": "stream",
          "name": "stdout",
          "text": [
            "+---+---+----------------+-----------+\n",
            "|age|sex|avg_resting_bp_s|cholesterol|\n",
            "+---+---+----------------+-----------+\n",
            "| 28|  1|           130.0|      132.0|\n",
            "| 29|  1|           130.0|     236.67|\n",
            "| 30|  0|           170.0|      237.0|\n",
            "| 31|  1|           120.0|      270.0|\n",
            "| 31|  0|           100.0|      219.0|\n",
            "| 32|  0|           105.0|      198.0|\n",
            "| 32|  1|           112.0|      252.0|\n",
            "| 33|  1|           120.0|      298.0|\n",
            "| 33|  0|           100.0|      246.0|\n",
            "| 34|  0|           124.0|      185.5|\n",
            "| 34|  1|           124.2|      154.4|\n",
            "| 35|  0|          132.67|      170.0|\n",
            "| 35|  1|          123.88|     207.75|\n",
            "| 36|  1|          123.67|     190.33|\n",
            "| 37|  0|           125.0|     214.75|\n",
            "| 37|  1|          128.29|     244.57|\n",
            "| 38|  1|          121.92|     159.15|\n",
            "| 38|  0|          111.67|      91.67|\n",
            "| 39|  0|           114.0|     200.33|\n",
            "| 39|  1|          130.67|     248.92|\n",
            "+---+---+----------------+-----------+\n",
            "only showing top 20 rows\n",
            "\n"
          ]
        }
      ],
      "source": [
        "## The average resting blood pressure and cholesterol based on age and sex\n",
        "run_sql_query(\"\"\"\n",
        "    select age, sex, round(avg(resting_bp_s), 2) as avg_resting_bp_s, round(avg(cholesterol), 2) as cholesterol\n",
        "    from heart_disease\n",
        "    group by age, sex\n",
        "    order by age\n",
        "\"\"\")"
      ]
    },
    {
      "cell_type": "code",
      "execution_count": 26,
      "metadata": {
        "colab": {
          "base_uri": "https://localhost:8080/"
        },
        "id": "nObFvXmG0ykJ",
        "outputId": "d44e2dd5-ca52-4eac-dc70-62d8baf7e99e"
      },
      "outputs": [
        {
          "output_type": "stream",
          "name": "stdout",
          "text": [
            "+-----------+-------------+\n",
            "|cholesterol|heart_disease|\n",
            "+-----------+-------------+\n",
            "|        289|            0|\n",
            "|        283|            0|\n",
            "|        214|            1|\n",
            "|        339|            0|\n",
            "|        237|            0|\n",
            "|        208|            0|\n",
            "|        207|            1|\n",
            "|        284|            0|\n",
            "|        211|            0|\n",
            "|        204|            0|\n",
            "|        234|            1|\n",
            "|        211|            0|\n",
            "|        273|            0|\n",
            "|        201|            0|\n",
            "|        248|            1|\n",
            "|        267|            1|\n",
            "|        223|            0|\n",
            "|        201|            0|\n",
            "|        288|            1|\n",
            "|        215|            0|\n",
            "+-----------+-------------+\n",
            "only showing top 20 rows\n",
            "\n"
          ]
        }
      ],
      "source": [
        "## Individuals marked with high cholesterol and whether they have heart disease or not\n",
        "run_sql_query(\"\"\"\n",
        "    select cholesterol, target as heart_disease\n",
        "    from heart_disease\n",
        "    where cholesterol >= 200\n",
        "\"\"\")"
      ]
    },
    {
      "cell_type": "code",
      "source": [
        "## Average cholesterol based on their sex and if they have heart disease or not\n",
        "run_sql_query(\"\"\"\n",
        "    select sex, target as heart_disease, round(avg(cholesterol), 2)\n",
        "    from heart_disease\n",
        "    where cholesterol != 0\n",
        "    group by sex, target\n",
        "    order by target ASC\n",
        "\"\"\")"
      ],
      "metadata": {
        "colab": {
          "base_uri": "https://localhost:8080/"
        },
        "id": "fuwHH5NAF43z",
        "outputId": "631f60d5-9e82-4ca1-fee4-52b9d54012d3"
      },
      "execution_count": 39,
      "outputs": [
        {
          "output_type": "stream",
          "name": "stdout",
          "text": [
            "+---+-------------+--------------------------+\n",
            "|sex|heart_disease|round(avg(cholesterol), 2)|\n",
            "+---+-------------+--------------------------+\n",
            "|  0|            0|                    249.18|\n",
            "|  1|            0|                    232.81|\n",
            "|  0|            1|                    279.18|\n",
            "|  1|            1|                     247.5|\n",
            "+---+-------------+--------------------------+\n",
            "\n"
          ]
        }
      ]
    },
    {
      "cell_type": "code",
      "execution_count": 35,
      "metadata": {
        "colab": {
          "base_uri": "https://localhost:8080/"
        },
        "id": "L3fubLZg-qGR",
        "outputId": "2a0a3173-971a-49a7-90d9-f32096ce1686"
      },
      "outputs": [
        {
          "output_type": "stream",
          "name": "stdout",
          "text": [
            "+---+---------------+------------+------------------+\n",
            "|sex|avg_cholesterol|resting_bp_s|with_heart_disease|\n",
            "+---+---------------+------------+------------------+\n",
            "|  0|         279.18|      143.38|                40|\n",
            "|  1|          247.5|      135.24|               316|\n",
            "+---+---------------+------------+------------------+\n",
            "\n"
          ]
        }
      ],
      "source": [
        "## Average cholesterol and resting blood pressure for individuals with heart disease based on sex\n",
        "run_sql_query(\"\"\"\n",
        "    select sex, round(avg(cholesterol), 2) as avg_cholesterol, round(avg(resting_bp_s), 2) as resting_bp_s, count(target) as with_heart_disease\n",
        "    from heart_disease\n",
        "    where cholesterol != 0 and resting_bp_s != 0 and target != 0\n",
        "    group by sex\n",
        "\"\"\")"
      ]
    },
    {
      "cell_type": "code",
      "source": [
        "## Average cholesterol and resting blood pressure for individuals without heart disease based on sex\n",
        "run_sql_query(\"\"\"\n",
        "    select sex, round(avg(cholesterol), 2) as avg_cholesterol, round(avg(resting_bp_s), 2) as resting_bp_s, count(target) as without_heart_disease\n",
        "    from heart_disease\n",
        "    where cholesterol != 0 and resting_bp_s != 0 and target != 1\n",
        "    group by sex\n",
        "\"\"\")"
      ],
      "metadata": {
        "colab": {
          "base_uri": "https://localhost:8080/"
        },
        "id": "t8QxHSokFjAK",
        "outputId": "d02a828e-2a9a-482d-be34-e2a3844c23c7"
      },
      "execution_count": 36,
      "outputs": [
        {
          "output_type": "stream",
          "name": "stdout",
          "text": [
            "+---+---------------+------------+---------------------+\n",
            "|sex|avg_cholesterol|resting_bp_s|without_heart_disease|\n",
            "+---+---------------+------------+---------------------+\n",
            "|  0|         249.18|      128.77|                  142|\n",
            "|  1|         232.81|      130.96|                  248|\n",
            "+---+---------------+------------+---------------------+\n",
            "\n"
          ]
        }
      ]
    },
    {
      "cell_type": "code",
      "execution_count": 12,
      "metadata": {
        "colab": {
          "base_uri": "https://localhost:8080/"
        },
        "id": "2AMF2cVJF-XX",
        "outputId": "a46a02f5-49aa-46fa-b2f0-a0fb0ae523f7"
      },
      "outputs": [
        {
          "output_type": "stream",
          "name": "stdout",
          "text": [
            "+-------------+---------------+------------+\n",
            "|heart_disease|avg_cholesterol|resting_bp_s|\n",
            "+-------------+---------------+------------+\n",
            "|            0|         238.77|      130.16|\n",
            "|            1|         250.36|      135.77|\n",
            "+-------------+---------------+------------+\n",
            "\n"
          ]
        }
      ],
      "source": [
        "## Average Cholesterol and Average Resting blood pressure based on those with or without heart disease\n",
        "run_sql_query(\"\"\"\n",
        "    select target as heart_disease, round(avg(cholesterol), 2) as avg_cholesterol, round(avg(resting_bp_s), 2) as resting_bp_s\n",
        "    from heart_disease\n",
        "    where cholesterol != 0 or resting_bp_s = 0\n",
        "    group by target\n",
        "\"\"\")"
      ]
    },
    {
      "cell_type": "code",
      "execution_count": 33,
      "metadata": {
        "colab": {
          "base_uri": "https://localhost:8080/"
        },
        "id": "MKbs75BAF-Ze",
        "outputId": "daa9d7b1-c4c7-4720-9c39-16020406bc68"
      },
      "outputs": [
        {
          "output_type": "stream",
          "name": "stdout",
          "text": [
            "+-------------+---------------+---------------------+\n",
            "|heart_disease|chest_pain_type|chest_pain_type_count|\n",
            "+-------------+---------------+---------------------+\n",
            "|            0|              1|                   26|\n",
            "|            1|              1|                   20|\n",
            "|            0|              2|                  149|\n",
            "|            1|              2|                   24|\n",
            "|            0|              3|                  131|\n",
            "|            1|              3|                   72|\n",
            "|            0|              4|                  104|\n",
            "|            1|              4|                  392|\n",
            "+-------------+---------------+---------------------+\n",
            "\n"
          ]
        }
      ],
      "source": [
        "## Number of individuals with each chest pain type and if they have heart disease or not\n",
        "run_sql_query(\"\"\"\n",
        "    select target as heart_disease, chest_pain_type, count(chest_pain_type) as chest_pain_type_count\n",
        "    from heart_disease\n",
        "    group by target, chest_pain_type\n",
        "    order by chest_pain_type, target ASC\n",
        "\"\"\")"
      ]
    },
    {
      "cell_type": "code",
      "execution_count": 14,
      "metadata": {
        "colab": {
          "base_uri": "https://localhost:8080/"
        },
        "id": "p61nX_t2kWZH",
        "outputId": "ce3a8e1e-ebf5-42a3-b33f-5afa5dec2b3f"
      },
      "outputs": [
        {
          "output_type": "stream",
          "name": "stdout",
          "text": [
            "+---------------+----------------------+----------------+\n",
            "|exercise_angina|count(exercise_angina)|avg_choleseterol|\n",
            "+---------------+----------------------+----------------+\n",
            "|              0|                   459|          240.58|\n",
            "|              1|                   287|          251.12|\n",
            "+---------------+----------------------+----------------+\n",
            "\n"
          ]
        }
      ],
      "source": [
        "## People with or without exercise angina and their average cholesterol\n",
        "run_sql_query(\"\"\"\n",
        "    select exercise_angina, count(exercise_angina), round(avg(cholesterol), 2) as avg_choleseterol\n",
        "    from heart_disease\n",
        "    where cholesterol != 0\n",
        "    group by exercise_angina\n",
        "\"\"\")"
      ]
    },
    {
      "cell_type": "code",
      "execution_count": 15,
      "metadata": {
        "colab": {
          "base_uri": "https://localhost:8080/"
        },
        "id": "jSr4N-MdkWbR",
        "outputId": "33a5b8c8-0d2e-47a7-9918-31a81112cd74"
      },
      "outputs": [
        {
          "output_type": "stream",
          "name": "stdout",
          "text": [
            "+---+-------------+\n",
            "|sex|heart_disease|\n",
            "+---+-------------+\n",
            "|  0|           50|\n",
            "|  1|          458|\n",
            "+---+-------------+\n",
            "\n"
          ]
        }
      ],
      "source": [
        "## Count the number of individuals with heart disease based on their sex\n",
        "run_sql_query(\"\"\"\n",
        "    select sex as sex, count(target) as heart_disease\n",
        "    from heart_disease\n",
        "    where target == 1\n",
        "    group by sex\n",
        "\"\"\")"
      ]
    },
    {
      "cell_type": "code",
      "execution_count": 16,
      "metadata": {
        "colab": {
          "base_uri": "https://localhost:8080/"
        },
        "id": "yOdWOvFNkWdp",
        "outputId": "5402cbfc-5739-4b5c-b990-b97951647eb7"
      },
      "outputs": [
        {
          "output_type": "stream",
          "name": "stdout",
          "text": [
            "+---+-------------+\n",
            "|sex|heart_disease|\n",
            "+---+-------------+\n",
            "|  0|          143|\n",
            "|  1|          267|\n",
            "+---+-------------+\n",
            "\n"
          ]
        }
      ],
      "source": [
        "## Count the number of individuals without heart disease based on their sex\n",
        "run_sql_query(\"\"\"\n",
        "    select sex as sex, count(target) as heart_disease\n",
        "    from heart_disease\n",
        "    where target == 0\n",
        "    group by sex\n",
        "\"\"\")"
      ]
    },
    {
      "cell_type": "code",
      "execution_count": 18,
      "metadata": {
        "colab": {
          "base_uri": "https://localhost:8080/"
        },
        "id": "rH6tnfnWu_qJ",
        "outputId": "ca060e32-eaf1-4d4a-c88e-a221ea1fbf05"
      },
      "outputs": [
        {
          "output_type": "stream",
          "name": "stdout",
          "text": [
            "+---------------+-----------+------------+---------------+------+\n",
            "|chest_pain_type|cholesterol|resting_bp_s|exercise_angina|target|\n",
            "+---------------+-----------+------------+---------------+------+\n",
            "|              1|        223|         100|              0|     0|\n",
            "|              1|        160|         120|              0|     0|\n",
            "|              1|        193|         160|              0|     0|\n",
            "|              1|        308|         130|              0|     0|\n",
            "|              1|        249|         110|              0|     0|\n",
            "|              1|        237|         170|              0|     0|\n",
            "|              1|        171|         120|              0|     0|\n",
            "|              1|        252|         140|              0|     0|\n",
            "|              1|        181|         139|              0|     0|\n",
            "|              1|        139|         135|              0|     0|\n",
            "|              1|        211|         110|              1|     0|\n",
            "|              1|        199|         140|              1|     0|\n",
            "|              1|        240|         150|              0|     0|\n",
            "|              1|        233|         145|              0|     0|\n",
            "|              1|        244|         148|              0|     0|\n",
            "|              1|        270|         178|              0|     0|\n",
            "|              1|        226|         150|              0|     0|\n",
            "|              1|        213|         125|              1|     0|\n",
            "|              1|        193|         120|              0|     0|\n",
            "|              1|        234|         160|              0|     0|\n",
            "+---------------+-----------+------------+---------------+------+\n",
            "only showing top 20 rows\n",
            "\n"
          ]
        }
      ],
      "source": [
        "## The cholesterol, resting blood pressure, whether they have exercise angina or not, and whether they have heart disease or not in individuals with the typical angina chest pain type\n",
        "run_sql_query(\"\"\"\n",
        "    select chest_pain_type, cholesterol, resting_bp_s, exercise_angina, target\n",
        "    from heart_disease\n",
        "    where chest_pain_type = 1 and cholesterol != 0 and resting_bp_s != 0\n",
        "    order by target\n",
        "\"\"\")"
      ]
    },
    {
      "cell_type": "code",
      "execution_count": 19,
      "metadata": {
        "colab": {
          "base_uri": "https://localhost:8080/"
        },
        "id": "V6PbvD0svw5j",
        "outputId": "70fc2a70-4704-44fc-c5c5-66966a03ab1d"
      },
      "outputs": [
        {
          "output_type": "stream",
          "name": "stdout",
          "text": [
            "+---------------+-----------+------------+---------------+------+\n",
            "|chest_pain_type|cholesterol|resting_bp_s|exercise_angina|target|\n",
            "+---------------+-----------+------------+---------------+------+\n",
            "|              2|        264|         150|              0|     0|\n",
            "|              2|        241|         190|              0|     0|\n",
            "|              2|        216|         140|              0|     0|\n",
            "|              2|        283|         130|              0|     0|\n",
            "|              2|        224|         140|              0|     0|\n",
            "|              2|        208|         110|              0|     0|\n",
            "|              2|        245|         130|              0|     0|\n",
            "|              2|        194|         160|              0|     0|\n",
            "|              2|        214|         150|              0|     0|\n",
            "|              2|        253|         100|              0|     0|\n",
            "|              2|        201|         120|              0|     0|\n",
            "|              2|        202|         110|              0|     0|\n",
            "|              2|        201|         124|              0|     0|\n",
            "|              2|        260|         120|              0|     0|\n",
            "|              2|        468|         113|              0|     0|\n",
            "|              2|        225|         110|              0|     0|\n",
            "|              2|        186|         150|              0|     0|\n",
            "|              2|        215|         130|              0|     0|\n",
            "|              2|        250|         110|              0|     0|\n",
            "|              2|        100|         140|              1|     0|\n",
            "+---------------+-----------+------------+---------------+------+\n",
            "only showing top 20 rows\n",
            "\n"
          ]
        }
      ],
      "source": [
        "## The cholesterol, resting blood pressure, whether they have exercise angina or not, and whether they have heart disease or not in individuals with the atypical angina chest pain type\n",
        "run_sql_query(\"\"\"\n",
        "    select chest_pain_type, cholesterol, resting_bp_s, exercise_angina, target\n",
        "    from heart_disease\n",
        "    where chest_pain_type = 2 and cholesterol != 0 and resting_bp_s != 0\n",
        "    order by target\n",
        "\"\"\")"
      ]
    },
    {
      "cell_type": "code",
      "execution_count": 20,
      "metadata": {
        "id": "-1MBm86mvw7-",
        "colab": {
          "base_uri": "https://localhost:8080/"
        },
        "outputId": "9f1e14c2-fef3-4e3e-ec62-90d1ea82451c"
      },
      "outputs": [
        {
          "output_type": "stream",
          "name": "stdout",
          "text": [
            "+---------------+-----------+------------+---------------+------+\n",
            "|chest_pain_type|cholesterol|resting_bp_s|exercise_angina|target|\n",
            "+---------------+-----------+------------+---------------+------+\n",
            "|              3|        272|         125|              0|     0|\n",
            "|              3|        235|         130|              0|     0|\n",
            "|              3|        228|         120|              1|     0|\n",
            "|              3|        195|         150|              0|     0|\n",
            "|              3|        292|         145|              0|     0|\n",
            "|              3|        211|         130|              0|     0|\n",
            "|              3|        179|         140|              0|     0|\n",
            "|              3|        215|         130|              0|     0|\n",
            "|              3|        235|         140|              0|     0|\n",
            "|              3|        194|         130|              0|     0|\n",
            "|              3|        200|         150|              0|     0|\n",
            "|              3|        192|         135|              0|     0|\n",
            "|              3|        318|         130|              1|     0|\n",
            "|              3|        230|         120|              0|     0|\n",
            "|              3|        254|         150|              0|     0|\n",
            "|              3|        147|         160|              0|     0|\n",
            "|              3|        277|         110|              0|     0|\n",
            "|              3|        276|         130|              1|     0|\n",
            "|              3|        147|         160|              0|     0|\n",
            "|              3|        219|         130|              0|     0|\n",
            "+---------------+-----------+------------+---------------+------+\n",
            "only showing top 20 rows\n",
            "\n"
          ]
        }
      ],
      "source": [
        "## The cholesterol, resting blood pressure, whether they have exercise angina or not, and whether they have heart disease or not in individuals with the non-anginal pain chest pain type\n",
        "run_sql_query(\"\"\"\n",
        "    select chest_pain_type, cholesterol, resting_bp_s, exercise_angina, target\n",
        "    from heart_disease\n",
        "    where chest_pain_type = 3 and cholesterol != 0 and resting_bp_s != 0\n",
        "    order by target\n",
        "\"\"\")"
      ]
    },
    {
      "cell_type": "code",
      "execution_count": 21,
      "metadata": {
        "id": "HKlj8CsYu_s4",
        "colab": {
          "base_uri": "https://localhost:8080/"
        },
        "outputId": "e275a306-11d7-4c6c-d35c-9bacc2b86739"
      },
      "outputs": [
        {
          "output_type": "stream",
          "name": "stdout",
          "text": [
            "+---------------+-----------+------------+---------------+------+\n",
            "|chest_pain_type|cholesterol|resting_bp_s|exercise_angina|target|\n",
            "+---------------+-----------+------------+---------------+------+\n",
            "|              4|        297|         132|              0|     0|\n",
            "|              4|        238|         110|              1|     0|\n",
            "|              4|        412|         150|              0|     0|\n",
            "|              4|        254|         120|              0|     0|\n",
            "|              4|        238|         130|              0|     0|\n",
            "|              4|        129|         140|              0|     0|\n",
            "|              4|        227|         150|              1|     0|\n",
            "|              4|        276|         140|              1|     0|\n",
            "|              4|        180|         130|              1|     0|\n",
            "|              4|        240|         110|              0|     0|\n",
            "|              4|        224|         140|              0|     0|\n",
            "|              4|        163|         108|              0|     0|\n",
            "|              4|        167|         140|              0|     0|\n",
            "|              4|        294|         130|              1|     0|\n",
            "|              4|        307|         130|              0|     0|\n",
            "|              4|        243|         140|              0|     0|\n",
            "|              4|        179|         130|              0|     0|\n",
            "|              4|        273|         110|              0|     0|\n",
            "|              4|        223|         120|              0|     0|\n",
            "|              4|        270|         120|              0|     0|\n",
            "+---------------+-----------+------------+---------------+------+\n",
            "only showing top 20 rows\n",
            "\n"
          ]
        }
      ],
      "source": [
        "## The cholesterol, resting blood pressure, whether they have exercise angina or not, and whether they have heart disease or not in individuals with the asymptomatic chest pain type\n",
        "run_sql_query(\"\"\"\n",
        "    select chest_pain_type, cholesterol, resting_bp_s, exercise_angina, target\n",
        "    from heart_disease\n",
        "    where chest_pain_type = 4 and cholesterol != 0 and resting_bp_s != 0\n",
        "    order by target\n",
        "\"\"\")"
      ]
    },
    {
      "cell_type": "code",
      "execution_count": 40,
      "metadata": {
        "id": "Z985frHus2Wv",
        "colab": {
          "base_uri": "https://localhost:8080/"
        },
        "outputId": "d2f22cae-7666-4786-bcbb-178432724edc"
      },
      "outputs": [
        {
          "output_type": "stream",
          "name": "stdout",
          "text": [
            "+---------------+---+--------------------------+------------------+\n",
            "|chest_pain_type|sex|round(avg(cholesterol), 2)|round(avg(age), 3)|\n",
            "+---------------+---+--------------------------+------------------+\n",
            "|              1|  0|                    234.33|            53.333|\n",
            "|              1|  1|                    231.75|            55.313|\n",
            "|              2|  0|                    253.58|            49.356|\n",
            "|              2|  1|                    236.97|            48.495|\n",
            "|              3|  0|                    250.33|             52.75|\n",
            "|              3|  1|                    231.31|            52.376|\n",
            "|              4|  0|                    265.55|            54.274|\n",
            "|              4|  1|                    247.12|             54.75|\n",
            "+---------------+---+--------------------------+------------------+\n",
            "\n"
          ]
        }
      ],
      "source": [
        "## The average cholesterol and average age of people by chest pain type and sex\n",
        "run_sql_query(\"\"\"\n",
        "    select chest_pain_type, sex, round(avg(cholesterol), 2), round(avg(age), 3)\n",
        "    from heart_disease\n",
        "    where cholesterol != 0\n",
        "    group by chest_pain_type, sex\n",
        "    order by chest_pain_type, sex\n",
        "\"\"\")"
      ]
    }
  ],
  "metadata": {
    "colab": {
      "provenance": []
    },
    "kernelspec": {
      "display_name": "Python 3",
      "name": "python3"
    },
    "language_info": {
      "codemirror_mode": {
        "name": "ipython",
        "version": 3
      },
      "file_extension": ".py",
      "mimetype": "text/x-python",
      "name": "python",
      "nbconvert_exporter": "python",
      "pygments_lexer": "ipython3",
      "version": "3.10.11"
    }
  },
  "nbformat": 4,
  "nbformat_minor": 0
}