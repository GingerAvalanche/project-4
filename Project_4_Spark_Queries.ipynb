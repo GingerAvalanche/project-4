{
  "cells": [
    {
      "cell_type": "code",
      "execution_count": 1,
      "metadata": {
        "colab": {
          "base_uri": "https://localhost:8080/"
        },
        "id": "t51hQOgh-i7e",
        "outputId": "a2832baa-f3bf-4e5a-bea4-454b3407fed6"
      },
      "outputs": [],
      "source": [
        "import os\n",
        "# Find the latest version of spark 3.x  from http://www.apache.org/dist/spark/ and enter as the spark version\n",
        "# For example:\n",
        "# spark_version = 'spark-3.5.0'\n",
        "spark_version = 'spark-3.5.0'\n",
        "os.environ['SPARK_VERSION']=spark_version\n",
        "\n",
        "# Install Spark and Java\n",
        "!apt-get update\n",
        "!apt-get install openjdk-11-jdk-headless -qq > /dev/null\n",
        "!wget -q http://www.apache.org/dist/spark/$SPARK_VERSION/$SPARK_VERSION-bin-hadoop3.tgz\n",
        "!tar xf $SPARK_VERSION-bin-hadoop3.tgz\n",
        "!pip install -q findspark\n",
        "\n",
        "# Set Environment Variables\n",
        "os.environ[\"JAVA_HOME\"] = \"/usr/lib/jvm/java-11-openjdk-amd64\"\n",
        "os.environ[\"SPARK_HOME\"] = f\"/content/{spark_version}-bin-hadoop3\"\n",
        "\n",
        "# Start a SparkSession\n",
        "import findspark\n",
        "findspark.init()"
      ]
    },
    {
      "cell_type": "code",
      "execution_count": 2,
      "metadata": {
        "id": "oaLTbsyu-neS"
      },
      "outputs": [],
      "source": [
        "# Import packages\n",
        "from pyspark.sql import SparkSession\n",
        "import time\n",
        "\n",
        "# Create a SparkSession\n",
        "spark = SparkSession.builder.appName(\"SparkSQL\").getOrCreate()"
      ]
    },
    {
      "cell_type": "code",
      "execution_count": 3,
      "metadata": {
        "colab": {
          "base_uri": "https://localhost:8080/"
        },
        "id": "HHCc0XJT-p-I",
        "outputId": "bd4ee989-72ed-46f5-dbaf-6a00a028eedc"
      },
      "outputs": [
        {
          "name": "stdout",
          "output_type": "stream",
          "text": [
            "+---+---+---------------+------------+-----------+-------------------+-----------+--------------+---------------+-------+--------+------+\n",
            "|age|sex|chest_pain_type|resting_bp_s|cholesterol|fasting_blood_sugar|resting_ecg|max_heart_rate|exercise_angina|oldpeak|ST_slope|target|\n",
            "+---+---+---------------+------------+-----------+-------------------+-----------+--------------+---------------+-------+--------+------+\n",
            "| 40|  1|              2|         140|        289|                  0|          0|           172|              0|    0.0|       1|     0|\n",
            "| 49|  0|              3|         160|        180|                  0|          0|           156|              0|    1.0|       2|     1|\n",
            "| 37|  1|              2|         130|        283|                  0|          1|            98|              0|    0.0|       1|     0|\n",
            "| 48|  0|              4|         138|        214|                  0|          0|           108|              1|    1.5|       2|     1|\n",
            "| 54|  1|              3|         150|        195|                  0|          0|           122|              0|    0.0|       1|     0|\n",
            "| 39|  1|              3|         120|        339|                  0|          0|           170|              0|    0.0|       1|     0|\n",
            "| 45|  0|              2|         130|        237|                  0|          0|           170|              0|    0.0|       1|     0|\n",
            "| 54|  1|              2|         110|        208|                  0|          0|           142|              0|    0.0|       1|     0|\n",
            "| 37|  1|              4|         140|        207|                  0|          0|           130|              1|    1.5|       2|     1|\n",
            "| 48|  0|              2|         120|        284|                  0|          0|           120|              0|    0.0|       1|     0|\n",
            "| 37|  0|              3|         130|        211|                  0|          0|           142|              0|    0.0|       1|     0|\n",
            "| 58|  1|              2|         136|        164|                  0|          1|            99|              1|    2.0|       2|     1|\n",
            "| 39|  1|              2|         120|        204|                  0|          0|           145|              0|    0.0|       1|     0|\n",
            "| 49|  1|              4|         140|        234|                  0|          0|           140|              1|    1.0|       2|     1|\n",
            "| 42|  0|              3|         115|        211|                  0|          1|           137|              0|    0.0|       1|     0|\n",
            "| 54|  0|              2|         120|        273|                  0|          0|           150|              0|    1.5|       2|     0|\n",
            "| 38|  1|              4|         110|        196|                  0|          0|           166|              0|    0.0|       2|     1|\n",
            "| 43|  0|              2|         120|        201|                  0|          0|           165|              0|    0.0|       1|     0|\n",
            "| 60|  1|              4|         100|        248|                  0|          0|           125|              0|    1.0|       2|     1|\n",
            "| 36|  1|              2|         120|        267|                  0|          0|           160|              0|    3.0|       2|     1|\n",
            "+---+---+---------------+------------+-----------+-------------------+-----------+--------------+---------------+-------+--------+------+\n",
            "only showing top 20 rows\n",
            "\n"
          ]
        }
      ],
      "source": [
        "from pyspark import SparkFiles\n",
        "url = \"https://ale-work-123.s3.us-west-1.amazonaws.com/heart_statlog_cleveland_hungary_final_clean.csv\"\n",
        "spark.sparkContext.addFile(url)\n",
        "df = spark.read.csv(SparkFiles.get(\"heart_statlog_cleveland_hungary_final_clean.csv\"), sep=\",\", header=True)\n",
        "\n",
        "df.show()"
      ]
    },
    {
      "cell_type": "code",
      "execution_count": 4,
      "metadata": {
        "id": "BmEXYkN4-qBH"
      },
      "outputs": [],
      "source": [
        "df.createOrReplaceTempView('heart_disease')"
      ]
    },
    {
      "cell_type": "code",
      "execution_count": 5,
      "metadata": {},
      "outputs": [],
      "source": [
        "def run_sql_query(query):\n",
        "    spark.sql(query).show()"
      ]
    },
    {
      "cell_type": "code",
      "execution_count": 6,
      "metadata": {
        "colab": {
          "base_uri": "https://localhost:8080/"
        },
        "id": "4RPoe8O1-qDf",
        "outputId": "0a3ce126-34e5-45ed-b619-aeb58d416935"
      },
      "outputs": [
        {
          "name": "stdout",
          "output_type": "stream",
          "text": [
            "+---------------+-----------+-------------+\n",
            "|chest_pain_type|cholesterol|heart_disease|\n",
            "+---------------+-----------+-------------+\n",
            "|              1|        291|            1|\n",
            "|              1|        273|            1|\n",
            "|              1|        160|            0|\n",
            "|              1|        270|            1|\n",
            "|              1|        252|            0|\n",
            "|              1|        223|            0|\n",
            "|              1|        258|            1|\n",
            "|              1|        272|            1|\n",
            "|              1|        200|            1|\n",
            "|              1|        308|            0|\n",
            "|              1|        181|            0|\n",
            "|              1|        237|            0|\n",
            "|              1|        216|            1|\n",
            "|              1|        171|            0|\n",
            "|              1|        139|            0|\n",
            "|              1|        156|            1|\n",
            "|              1|        234|            1|\n",
            "|              1|        249|            0|\n",
            "|              1|        211|            0|\n",
            "|              1|        199|            0|\n",
            "+---------------+-----------+-------------+\n",
            "only showing top 20 rows\n",
            "\n"
          ]
        }
      ],
      "source": [
        "## Type of chest pain compared to their cholesterol levels and if they have heart disease or not\n",
        "run_sql_query(\"\"\"\n",
        "    select chest_pain_type as chest_pain_type, cholesterol as cholesterol, target as heart_disease\n",
        "    from heart_disease\n",
        "    where cholesterol != 0\n",
        "    order by chest_pain_type\n",
        "\"\"\")"
      ]
    },
    {
      "cell_type": "code",
      "execution_count": 7,
      "metadata": {
        "colab": {
          "base_uri": "https://localhost:8080/"
        },
        "id": "kMbJL2WH0yfB",
        "outputId": "029c16c7-ba12-4f38-d6c8-998e0c972887"
      },
      "outputs": [
        {
          "name": "stdout",
          "output_type": "stream",
          "text": [
            "+---------------+-----------+-------------+\n",
            "|chest_pain_type|resting_ecg|heart_disease|\n",
            "+---------------+-----------+-------------+\n",
            "|              2|          0|            0|\n",
            "|              3|          0|            0|\n",
            "|              2|          0|            0|\n",
            "|              4|          1|            0|\n",
            "|              2|          0|            0|\n",
            "|              3|          0|            0|\n",
            "|              2|          0|            0|\n",
            "|              2|          0|            0|\n",
            "|              2|          0|            0|\n",
            "|              2|          0|            0|\n",
            "|              3|          0|            0|\n",
            "|              2|          0|            0|\n",
            "|              2|          0|            0|\n",
            "|              2|          0|            0|\n",
            "|              2|          0|            0|\n",
            "|              1|          0|            0|\n",
            "|              2|          1|            0|\n",
            "|              2|          1|            0|\n",
            "|              2|          1|            0|\n",
            "|              3|          0|            0|\n",
            "+---------------+-----------+-------------+\n",
            "only showing top 20 rows\n",
            "\n"
          ]
        }
      ],
      "source": [
        "run_sql_query(\"\"\"\n",
        "    select chest_pain_type as chest_pain_type, resting_ecg as resting_ecg, target as heart_disease\n",
        "    from heart_disease\n",
        "    order by heart_disease\n",
        "\"\"\")"
      ]
    },
    {
      "cell_type": "code",
      "execution_count": 8,
      "metadata": {
        "colab": {
          "base_uri": "https://localhost:8080/"
        },
        "id": "q-RL_XPn0yhx",
        "outputId": "859de868-6cf1-484f-e368-4ba3a6f159be"
      },
      "outputs": [
        {
          "name": "stdout",
          "output_type": "stream",
          "text": [
            "+---+----------------+-----------+\n",
            "|age|avg_resting_bp_s|cholesterol|\n",
            "+---+----------------+-----------+\n",
            "| 28|           130.0|      132.0|\n",
            "| 29|           130.0|     236.67|\n",
            "| 30|           170.0|      237.0|\n",
            "| 31|           110.0|      244.5|\n",
            "| 32|           110.6|      241.2|\n",
            "| 33|           110.0|      272.0|\n",
            "| 34|          124.14|     163.29|\n",
            "| 35|          126.27|     197.45|\n",
            "| 36|          123.67|     190.33|\n",
            "| 37|          127.09|     233.73|\n",
            "| 38|           120.0|      146.5|\n",
            "| 39|          127.33|      239.2|\n",
            "| 40|          128.31|     229.38|\n",
            "| 41|          120.46|      216.5|\n",
            "| 42|          129.17|     212.22|\n",
            "| 43|          126.67|     202.33|\n",
            "| 44|          125.95|     249.58|\n",
            "| 45|          129.22|     229.33|\n",
            "| 46|          126.38|     217.17|\n",
            "| 47|          132.53|     193.42|\n",
            "+---+----------------+-----------+\n",
            "only showing top 20 rows\n",
            "\n"
          ]
        }
      ],
      "source": [
        "run_sql_query(\"\"\"\n",
        "    select age as age, round(avg(resting_bp_s), 2) as avg_resting_bp_s, round(avg(cholesterol), 2) as cholesterol\n",
        "    from heart_disease\n",
        "    group by age\n",
        "    order by age\n",
        "\"\"\")"
      ]
    },
    {
      "cell_type": "code",
      "execution_count": 9,
      "metadata": {
        "colab": {
          "base_uri": "https://localhost:8080/"
        },
        "id": "1uycctrb9Qqu",
        "outputId": "dac8e0d3-5d0d-4958-87ab-02f5bb4fb173"
      },
      "outputs": [
        {
          "name": "stdout",
          "output_type": "stream",
          "text": [
            "+---+---+----------------+-----------+\n",
            "|age|sex|avg_resting_bp_s|cholesterol|\n",
            "+---+---+----------------+-----------+\n",
            "| 28|  1|           130.0|      132.0|\n",
            "| 29|  1|           130.0|     236.67|\n",
            "| 30|  0|           170.0|      237.0|\n",
            "| 31|  1|           120.0|      270.0|\n",
            "| 31|  0|           100.0|      219.0|\n",
            "| 32|  0|           105.0|      198.0|\n",
            "| 32|  1|           112.0|      252.0|\n",
            "| 33|  1|           120.0|      298.0|\n",
            "| 33|  0|           100.0|      246.0|\n",
            "| 34|  0|           124.0|      185.5|\n",
            "| 34|  1|           124.2|      154.4|\n",
            "| 35|  0|          132.67|      170.0|\n",
            "| 35|  1|          123.88|     207.75|\n",
            "| 36|  1|          123.67|     190.33|\n",
            "| 37|  0|           125.0|     214.75|\n",
            "| 37|  1|          128.29|     244.57|\n",
            "| 38|  1|          121.92|     159.15|\n",
            "| 38|  0|          111.67|      91.67|\n",
            "| 39|  0|           114.0|     200.33|\n",
            "| 39|  1|          130.67|     248.92|\n",
            "+---+---+----------------+-----------+\n",
            "only showing top 20 rows\n",
            "\n"
          ]
        }
      ],
      "source": [
        "run_sql_query(\"\"\"\n",
        "    select age as age, sex as sex, round(avg(resting_bp_s), 2) as avg_resting_bp_s, round(avg(cholesterol), 2) as cholesterol\n",
        "    from heart_disease\n",
        "    group by age, sex\n",
        "    order by age\n",
        "\"\"\")"
      ]
    },
    {
      "cell_type": "code",
      "execution_count": 10,
      "metadata": {
        "colab": {
          "base_uri": "https://localhost:8080/"
        },
        "id": "nObFvXmG0ykJ",
        "outputId": "fd3569f3-4d7b-4c84-eebe-05e07209cba3"
      },
      "outputs": [
        {
          "name": "stdout",
          "output_type": "stream",
          "text": [
            "+-----------+-------------+\n",
            "|cholesterol|heart_disease|\n",
            "+-----------+-------------+\n",
            "|        289|            0|\n",
            "|        283|            0|\n",
            "|        214|            1|\n",
            "|        339|            0|\n",
            "|        237|            0|\n",
            "|        208|            0|\n",
            "|        207|            1|\n",
            "|        284|            0|\n",
            "|        211|            0|\n",
            "|        204|            0|\n",
            "|        234|            1|\n",
            "|        211|            0|\n",
            "|        273|            0|\n",
            "|        201|            0|\n",
            "|        248|            1|\n",
            "|        267|            1|\n",
            "|        223|            0|\n",
            "|        201|            0|\n",
            "|        288|            1|\n",
            "|        215|            0|\n",
            "+-----------+-------------+\n",
            "only showing top 20 rows\n",
            "\n"
          ]
        }
      ],
      "source": [
        "run_sql_query(\"\"\"\n",
        "    select cholesterol as cholesterol, target as heart_disease\n",
        "    from heart_disease\n",
        "    where cholesterol >= 200\n",
        "\"\"\")"
      ]
    },
    {
      "cell_type": "code",
      "execution_count": 11,
      "metadata": {
        "colab": {
          "base_uri": "https://localhost:8080/"
        },
        "id": "L3fubLZg-qGR",
        "outputId": "976975c2-fefd-4d1a-d5e5-3ff48cd2254e"
      },
      "outputs": [
        {
          "name": "stdout",
          "output_type": "stream",
          "text": [
            "+---+---------------+------------+------------------+\n",
            "|sex|avg_cholesterol|resting_bp_s|with_heart_disease|\n",
            "+---+---------------+------------+------------------+\n",
            "|  0|         255.77|      131.98|               182|\n",
            "|  1|         240.61|      133.12|               565|\n",
            "+---+---------------+------------+------------------+\n",
            "\n"
          ]
        }
      ],
      "source": [
        "run_sql_query(\"\"\"\n",
        "    select sex as sex, round(avg(cholesterol), 2) as avg_cholesterol, round(avg(resting_bp_s), 2) as resting_bp_s, count(target) as with_heart_disease\n",
        "    from heart_disease\n",
        "    where cholesterol != 0 or resting_bp_s = 0\n",
        "    group by sex\n",
        "\"\"\")"
      ]
    },
    {
      "cell_type": "code",
      "execution_count": 12,
      "metadata": {
        "colab": {
          "base_uri": "https://localhost:8080/"
        },
        "id": "2AMF2cVJF-XX",
        "outputId": "82f9c6fd-a031-4551-9284-ffc7dbe4a8bf"
      },
      "outputs": [
        {
          "name": "stdout",
          "output_type": "stream",
          "text": [
            "+-------------+---------------+------------+\n",
            "|heart_disease|avg_cholesterol|resting_bp_s|\n",
            "+-------------+---------------+------------+\n",
            "|            0|         238.77|      130.16|\n",
            "|            1|         250.36|      135.77|\n",
            "+-------------+---------------+------------+\n",
            "\n"
          ]
        }
      ],
      "source": [
        "## Average Cholesterol and Average Resting blood pressure based on those with or without heart disease\n",
        "run_sql_query(\"\"\"\n",
        "    select target as heart_disease, round(avg(cholesterol), 2) as avg_cholesterol, round(avg(resting_bp_s), 2) as resting_bp_s\n",
        "    from heart_disease\n",
        "    where cholesterol != 0 or resting_bp_s = 0\n",
        "    group by target\n",
        "\"\"\")"
      ]
    },
    {
      "cell_type": "code",
      "execution_count": 13,
      "metadata": {
        "colab": {
          "base_uri": "https://localhost:8080/"
        },
        "id": "MKbs75BAF-Ze",
        "outputId": "0c5030d9-ecfc-4caf-9d88-eaf4eb08d22c"
      },
      "outputs": [
        {
          "name": "stdout",
          "output_type": "stream",
          "text": [
            "+-------------+-------------------+\n",
            "|heart_disease|avg_chest_pain_type|\n",
            "+-------------+-------------------+\n",
            "|            0|               2.76|\n",
            "|            1|               3.65|\n",
            "+-------------+-------------------+\n",
            "\n"
          ]
        }
      ],
      "source": [
        "run_sql_query(\"\"\"\n",
        "    select target as heart_disease, round(avg(chest_pain_type), 2) as avg_chest_pain_type\n",
        "    from heart_disease\n",
        "    group by target\n",
        "\"\"\")"
      ]
    },
    {
      "cell_type": "code",
      "execution_count": 14,
      "metadata": {
        "id": "gbl8rIyNF-b-"
      },
      "outputs": [],
      "source": [
        "# run_sql_query(\"\"\"\n",
        "#     select target as heart_disease, select"
      ]
    },
    {
      "cell_type": "code",
      "execution_count": 15,
      "metadata": {
        "colab": {
          "base_uri": "https://localhost:8080/"
        },
        "id": "p61nX_t2kWZH",
        "outputId": "67dcc34b-167c-47a8-e32f-7797278512d3"
      },
      "outputs": [
        {
          "name": "stdout",
          "output_type": "stream",
          "text": [
            "+---------------+----------------------+----------------+\n",
            "|exercise_angina|count(exercise_angina)|avg_choleseterol|\n",
            "+---------------+----------------------+----------------+\n",
            "|              0|                   459|          240.58|\n",
            "|              1|                   287|          251.12|\n",
            "+---------------+----------------------+----------------+\n",
            "\n"
          ]
        }
      ],
      "source": [
        "## People with or without exercise angina and their average cholesterol\n",
        "run_sql_query(\"\"\"\n",
        "    select exercise_angina, count(exercise_angina), round(avg(cholesterol), 2) as avg_choleseterol\n",
        "    from heart_disease\n",
        "    where cholesterol != 0\n",
        "    group by exercise_angina\n",
        "\"\"\")"
      ]
    },
    {
      "cell_type": "code",
      "execution_count": 16,
      "metadata": {
        "colab": {
          "base_uri": "https://localhost:8080/"
        },
        "id": "jSr4N-MdkWbR",
        "outputId": "6a66f082-4614-4d58-8725-43276e236dae"
      },
      "outputs": [
        {
          "name": "stdout",
          "output_type": "stream",
          "text": [
            "+---+-------------+\n",
            "|sex|heart_disease|\n",
            "+---+-------------+\n",
            "|  0|           50|\n",
            "|  1|          458|\n",
            "+---+-------------+\n",
            "\n"
          ]
        }
      ],
      "source": [
        "## Count the number of individuals with heart disease based on their sex\n",
        "run_sql_query(\"\"\"\n",
        "    select sex as sex, count(target) as heart_disease\n",
        "    from heart_disease\n",
        "    where target == 1\n",
        "    group by sex\n",
        "\"\"\")"
      ]
    },
    {
      "cell_type": "code",
      "execution_count": 17,
      "metadata": {
        "colab": {
          "base_uri": "https://localhost:8080/"
        },
        "id": "yOdWOvFNkWdp",
        "outputId": "5b61d1f9-0ebe-44ce-be3c-2d49c5410797"
      },
      "outputs": [
        {
          "name": "stdout",
          "output_type": "stream",
          "text": [
            "+---+-------------+\n",
            "|sex|heart_disease|\n",
            "+---+-------------+\n",
            "|  0|          143|\n",
            "|  1|          267|\n",
            "+---+-------------+\n",
            "\n"
          ]
        }
      ],
      "source": [
        "## Count the number of individuals without heart disease based on their sex\n",
        "run_sql_query(\"\"\"\n",
        "    select sex as sex, count(target) as heart_disease\n",
        "    from heart_disease\n",
        "    where target == 0\n",
        "    group by sex\n",
        "\"\"\")"
      ]
    },
    {
      "cell_type": "code",
      "execution_count": 18,
      "metadata": {
        "id": "VFEqdbweF-eH"
      },
      "outputs": [],
      "source": [
        "## Blood Pressure and Cholesterol based on chest pain type\n",
        "# run_sql_query(\"\"\"\n"
      ]
    },
    {
      "cell_type": "code",
      "execution_count": 19,
      "metadata": {
        "id": "kdVnvtv9-qIj"
      },
      "outputs": [
        {
          "name": "stdout",
          "output_type": "stream",
          "text": [
            "+---+-----------+------------------------------+\n",
            "|age|cholesterol|round(avg(chest_pain_type), 0)|\n",
            "+---+-----------+------------------------------+\n",
            "| 29|      253.0|                           2.0|\n",
            "| 31|      270.0|                           4.0|\n",
            "| 32|      391.5|                           3.0|\n",
            "| 33|      272.0|                           4.0|\n",
            "| 35|     277.75|                           3.0|\n",
            "| 36|      303.5|                           3.0|\n",
            "| 37|      269.6|                           3.0|\n",
            "| 38|      287.0|                           3.0|\n",
            "| 39|      286.0|                           3.0|\n",
            "| 40|     323.83|                           3.0|\n",
            "| 41|     277.18|                           3.0|\n",
            "| 42|     278.13|                           3.0|\n",
            "| 43|     277.09|                           3.0|\n",
            "| 44|     325.14|                           3.0|\n",
            "| 45|     288.83|                           3.0|\n",
            "| 46|      273.0|                           3.0|\n",
            "| 47|      261.2|                           3.0|\n",
            "| 48|     276.13|                           3.0|\n",
            "| 49|     280.29|                           3.0|\n",
            "| 50|     288.88|                           4.0|\n",
            "+---+-----------+------------------------------+\n",
            "only showing top 20 rows\n",
            "\n"
          ]
        }
      ],
      "source": [
        "## Individuals marked with high cholesterol and heart disease\n",
        "run_sql_query(\"\"\"\n",
        "    select age, round(avg(cholesterol), 2) as cholesterol, round(avg(chest_pain_type))\n",
        "    from heart_disease\n",
        "    where cholesterol >= 240\n",
        "    group by age\n",
        "    order by age ASC\n",
        "\"\"\")"
      ]
    },
    {
      "cell_type": "code",
      "execution_count": 20,
      "metadata": {
        "colab": {
          "base_uri": "https://localhost:8080/"
        },
        "id": "rH6tnfnWu_qJ",
        "outputId": "9abae025-ab8c-4ce5-cd42-a01d2aae8a6a"
      },
      "outputs": [
        {
          "name": "stdout",
          "output_type": "stream",
          "text": [
            "+---------------+-----------+------------+---------------+------+\n",
            "|chest_pain_type|cholesterol|resting_bp_s|exercise_angina|target|\n",
            "+---------------+-----------+------------+---------------+------+\n",
            "|              1|        223|         100|              0|     0|\n",
            "|              1|        160|         120|              0|     0|\n",
            "|              1|        193|         160|              0|     0|\n",
            "|              1|        308|         130|              0|     0|\n",
            "|              1|        249|         110|              0|     0|\n",
            "|              1|        237|         170|              0|     0|\n",
            "|              1|        171|         120|              0|     0|\n",
            "|              1|        252|         140|              0|     0|\n",
            "|              1|        181|         139|              0|     0|\n",
            "|              1|        139|         135|              0|     0|\n",
            "|              1|        211|         110|              1|     0|\n",
            "|              1|        199|         140|              1|     0|\n",
            "|              1|        240|         150|              0|     0|\n",
            "|              1|        233|         145|              0|     0|\n",
            "|              1|        244|         148|              0|     0|\n",
            "|              1|        270|         178|              0|     0|\n",
            "|              1|        226|         150|              0|     0|\n",
            "|              1|        213|         125|              1|     0|\n",
            "|              1|        193|         120|              0|     0|\n",
            "|              1|        234|         160|              0|     0|\n",
            "+---------------+-----------+------------+---------------+------+\n",
            "only showing top 20 rows\n",
            "\n"
          ]
        }
      ],
      "source": [
        "run_sql_query(\"\"\"\n",
        "    select chest_pain_type, cholesterol, resting_bp_s, exercise_angina, target\n",
        "    from heart_disease\n",
        "    where chest_pain_type = 1 and cholesterol != 0 and resting_bp_s != 0\n",
        "    order by target\n",
        "\"\"\")"
      ]
    },
    {
      "cell_type": "code",
      "execution_count": 21,
      "metadata": {
        "colab": {
          "base_uri": "https://localhost:8080/"
        },
        "id": "V6PbvD0svw5j",
        "outputId": "b2e9e463-90a1-4a0c-e261-29ae3d410b2e"
      },
      "outputs": [
        {
          "name": "stdout",
          "output_type": "stream",
          "text": [
            "+---------------+-----------+------------+---------------+------+\n",
            "|chest_pain_type|cholesterol|resting_bp_s|exercise_angina|target|\n",
            "+---------------+-----------+------------+---------------+------+\n",
            "|              2|        264|         150|              0|     0|\n",
            "|              2|        241|         190|              0|     0|\n",
            "|              2|        216|         140|              0|     0|\n",
            "|              2|        283|         130|              0|     0|\n",
            "|              2|        224|         140|              0|     0|\n",
            "|              2|        208|         110|              0|     0|\n",
            "|              2|        245|         130|              0|     0|\n",
            "|              2|        194|         160|              0|     0|\n",
            "|              2|        214|         150|              0|     0|\n",
            "|              2|        253|         100|              0|     0|\n",
            "|              2|        201|         120|              0|     0|\n",
            "|              2|        202|         110|              0|     0|\n",
            "|              2|        201|         124|              0|     0|\n",
            "|              2|        260|         120|              0|     0|\n",
            "|              2|        468|         113|              0|     0|\n",
            "|              2|        225|         110|              0|     0|\n",
            "|              2|        186|         150|              0|     0|\n",
            "|              2|        215|         130|              0|     0|\n",
            "|              2|        250|         110|              0|     0|\n",
            "|              2|        100|         140|              1|     0|\n",
            "+---------------+-----------+------------+---------------+------+\n",
            "only showing top 20 rows\n",
            "\n"
          ]
        }
      ],
      "source": [
        "run_sql_query(\"\"\"\n",
        "    select chest_pain_type, cholesterol, resting_bp_s, exercise_angina, target\n",
        "    from heart_disease\n",
        "    where chest_pain_type = 2 and cholesterol != 0 and resting_bp_s != 0\n",
        "    order by target\n",
        "\"\"\")"
      ]
    },
    {
      "cell_type": "code",
      "execution_count": 22,
      "metadata": {
        "id": "-1MBm86mvw7-"
      },
      "outputs": [
        {
          "name": "stdout",
          "output_type": "stream",
          "text": [
            "+---------------+-----------+------------+---------------+------+\n",
            "|chest_pain_type|cholesterol|resting_bp_s|exercise_angina|target|\n",
            "+---------------+-----------+------------+---------------+------+\n",
            "|              1|        223|         100|              0|     0|\n",
            "|              1|        160|         120|              0|     0|\n",
            "|              1|        193|         160|              0|     0|\n",
            "|              1|        308|         130|              0|     0|\n",
            "|              1|        249|         110|              0|     0|\n",
            "|              1|        237|         170|              0|     0|\n",
            "|              1|        171|         120|              0|     0|\n",
            "|              1|        252|         140|              0|     0|\n",
            "|              1|        181|         139|              0|     0|\n",
            "|              1|        139|         135|              0|     0|\n",
            "|              1|        211|         110|              1|     0|\n",
            "|              1|        199|         140|              1|     0|\n",
            "|              1|        240|         150|              0|     0|\n",
            "|              1|        233|         145|              0|     0|\n",
            "|              1|        244|         148|              0|     0|\n",
            "|              1|        270|         178|              0|     0|\n",
            "|              1|        226|         150|              0|     0|\n",
            "|              1|        213|         125|              1|     0|\n",
            "|              1|        193|         120|              0|     0|\n",
            "|              1|        234|         160|              0|     0|\n",
            "+---------------+-----------+------------+---------------+------+\n",
            "only showing top 20 rows\n",
            "\n"
          ]
        }
      ],
      "source": [
        "run_sql_query(\"\"\"\n",
        "    select chest_pain_type, cholesterol, resting_bp_s, exercise_angina, target\n",
        "    from heart_disease\n",
        "    where chest_pain_type = 1 and cholesterol != 0 and resting_bp_s != 0\n",
        "    order by target\n",
        "\"\"\")"
      ]
    },
    {
      "cell_type": "code",
      "execution_count": 23,
      "metadata": {
        "id": "HKlj8CsYu_s4"
      },
      "outputs": [
        {
          "name": "stdout",
          "output_type": "stream",
          "text": [
            "+---------------+-----------+------------+---------------+------+\n",
            "|chest_pain_type|cholesterol|resting_bp_s|exercise_angina|target|\n",
            "+---------------+-----------+------------+---------------+------+\n",
            "|              1|        223|         100|              0|     0|\n",
            "|              1|        160|         120|              0|     0|\n",
            "|              1|        193|         160|              0|     0|\n",
            "|              1|        308|         130|              0|     0|\n",
            "|              1|        249|         110|              0|     0|\n",
            "|              1|        237|         170|              0|     0|\n",
            "|              1|        171|         120|              0|     0|\n",
            "|              1|        252|         140|              0|     0|\n",
            "|              1|        181|         139|              0|     0|\n",
            "|              1|        139|         135|              0|     0|\n",
            "|              1|        211|         110|              1|     0|\n",
            "|              1|        199|         140|              1|     0|\n",
            "|              1|        240|         150|              0|     0|\n",
            "|              1|        233|         145|              0|     0|\n",
            "|              1|        244|         148|              0|     0|\n",
            "|              1|        270|         178|              0|     0|\n",
            "|              1|        226|         150|              0|     0|\n",
            "|              1|        213|         125|              1|     0|\n",
            "|              1|        193|         120|              0|     0|\n",
            "|              1|        234|         160|              0|     0|\n",
            "+---------------+-----------+------------+---------------+------+\n",
            "only showing top 20 rows\n",
            "\n"
          ]
        }
      ],
      "source": [
        "run_sql_query(\"\"\"\n",
        "    select chest_pain_type, cholesterol, resting_bp_s, exercise_angina, target\n",
        "    from heart_disease\n",
        "    where chest_pain_type = 1 and cholesterol != 0 and resting_bp_s != 0\n",
        "    order by target\n",
        "\"\"\")"
      ]
    },
    {
      "cell_type": "code",
      "execution_count": null,
      "metadata": {
        "id": "Z985frHus2Wv"
      },
      "outputs": [],
      "source": []
    }
  ],
  "metadata": {
    "colab": {
      "provenance": []
    },
    "kernelspec": {
      "display_name": "Python 3",
      "name": "python3"
    },
    "language_info": {
      "codemirror_mode": {
        "name": "ipython",
        "version": 3
      },
      "file_extension": ".py",
      "mimetype": "text/x-python",
      "name": "python",
      "nbconvert_exporter": "python",
      "pygments_lexer": "ipython3",
      "version": "3.10.11"
    }
  },
  "nbformat": 4,
  "nbformat_minor": 0
}
